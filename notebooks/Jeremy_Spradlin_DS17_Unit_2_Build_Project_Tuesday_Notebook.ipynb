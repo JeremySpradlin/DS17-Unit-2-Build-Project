{
  "nbformat": 4,
  "nbformat_minor": 0,
  "metadata": {
    "colab": {
      "name": "Jeremy Spradlin DS17 Unit 2 Build Project Tuesday Notebook.ipynb",
      "provenance": [],
      "authorship_tag": "ABX9TyNCPdeX5FrLixaQSAnwal4S",
      "include_colab_link": true
    },
    "kernelspec": {
      "name": "python3",
      "display_name": "Python 3"
    }
  },
  "cells": [
    {
      "cell_type": "markdown",
      "metadata": {
        "id": "view-in-github",
        "colab_type": "text"
      },
      "source": [
        "<a href=\"https://colab.research.google.com/github/JeremySpradlin/DS17-Unit-2-Build-Project/blob/master/notebooks/Jeremy_Spradlin_DS17_Unit_2_Build_Project_Tuesday_Notebook.ipynb\" target=\"_parent\"><img src=\"https://colab.research.google.com/assets/colab-badge.svg\" alt=\"Open In Colab\"/></a>"
      ]
    },
    {
      "cell_type": "markdown",
      "metadata": {
        "id": "4Jtf5u50Krxx",
        "colab_type": "text"
      },
      "source": [
        "# Predicting Sun Spots From Upper Atmosphere Radio Fluctuations\n",
        "\n",
        "For this project, we will be combining multiple data sources to constuct a full data source that will allow us to predict the number of sunspots based on Radio Fluctuations in the upper atmosphere."
      ]
    },
    {
      "cell_type": "markdown",
      "metadata": {
        "id": "SLgpcOX0LbhF",
        "colab_type": "text"
      },
      "source": [
        "# Imports"
      ]
    },
    {
      "cell_type": "code",
      "metadata": {
        "id": "jI5gP_0cYGKd",
        "colab_type": "code",
        "colab": {}
      },
      "source": [
        "#Installs\n",
        "%%capture\n",
        "import sys\n",
        "\n",
        "!pip install category_encoders==2.*\n",
        "!pip install eli5\n",
        "!pip install pandas-profiling==2.*\n",
        "!pip install pdpbox\n",
        "!pip install shap"
      ],
      "execution_count": 48,
      "outputs": []
    },
    {
      "cell_type": "code",
      "metadata": {
        "id": "MlwIpVh1LeMN",
        "colab_type": "code",
        "colab": {}
      },
      "source": [
        "#Imports\n",
        "%matplotlib inline\n",
        "\n",
        "import pandas_profiling\n",
        "\n",
        "import pandas as pd\n",
        "import numpy as np\n",
        "import plotly.express as px\n",
        "import matplotlib.pyplot as plt\n",
        "\n",
        "from sklearn.feature_selection import SelectKBest\n",
        "from sklearn.model_selection import train_test_split\n",
        "from sklearn.pipeline import make_pipeline\n",
        "from sklearn.preprocessing import StandardScaler\n",
        "from category_encoders import OneHotEncoder, OrdinalEncoder\n",
        "from sklearn.feature_selection import SelectKBest\n",
        "from sklearn.linear_model import LinearRegression, LogisticRegressionCV, LogisticRegression\n",
        "from sklearn.impute import SimpleImputer\n",
        "\n",
        "from xgboost import XGBClassifier"
      ],
      "execution_count": 93,
      "outputs": []
    },
    {
      "cell_type": "markdown",
      "metadata": {
        "id": "O_K2hW8yLfb8",
        "colab_type": "text"
      },
      "source": [
        "#Import our data sets"
      ]
    },
    {
      "cell_type": "code",
      "metadata": {
        "id": "2BuLjWZ7LlQf",
        "colab_type": "code",
        "colab": {}
      },
      "source": [
        "#Sun Spot Data\n",
        "url1 = 'https://raw.githubusercontent.com/JeremySpradlin/DS-Unit-2-Build-Week/master/sunspot_data.csv'\n",
        "\n",
        "#Earth Surface Temperatures\n",
        "url2 = 'https://raw.githubusercontent.com/JeremySpradlin/DS-Unit-2-Build-Week/master/temperature_data.csv'\n",
        "\n",
        "#Radio Flux\n",
        "url3 = 'https://raw.githubusercontent.com/JeremySpradlin/DS-Unit-2-Build-Week/master/radio_flux.csv'\n",
        "\n",
        "sspot = pd.read_csv(url1)\n",
        "temp = pd.read_csv(url2)\n",
        "flux = pd.read_csv(url3)"
      ],
      "execution_count": 50,
      "outputs": []
    },
    {
      "cell_type": "markdown",
      "metadata": {
        "id": "288X-DFbL14s",
        "colab_type": "text"
      },
      "source": [
        "# Wrangling Functions\n",
        "\n",
        "Below we will put in wrangle functions to clean up our data and prepare it for joining together."
      ]
    },
    {
      "cell_type": "code",
      "metadata": {
        "id": "Kk6skDoYM5B4",
        "colab_type": "code",
        "colab": {}
      },
      "source": [
        "#Sunspot Wrangle Function\n",
        "\n",
        "def wrangle_sspots(df):\n",
        "  \"\"\"This function will take in a dataframe of Sunspot activity\n",
        "  and perform different functions and actions on it to \n",
        "  prepare the dataset for training in a predictive model.\"\"\"\n",
        "\n",
        "  #Remove spaces from column names and change to lowercase\n",
        "  df.columns = df.columns.str.lower().str.replace(' ', '_')\n",
        "\n",
        "  #Replace -1's in target column\n",
        "  df['number_of_sunspots'].replace(-1, np.NaN, inplace=True)\n",
        "\n",
        "  #Remove observations with missing values or no observations\n",
        "  df = df.dropna()\n",
        "  mask = df[(df['observations'] == 0)].index\n",
        "  df = df.drop(mask)\n",
        "\n",
        "  #Create our datetime column\n",
        "  df['date'] = pd.to_datetime(df[['year', 'month', 'day']])\n",
        "\n",
        "    #Remove columns\n",
        "  df = df.drop(['indicator', 'unnamed:_0', 'year', 'month', 'day', 'date_in_fraction_of_year'], axis=1)\n",
        "\n",
        "  #move the date column to the front\n",
        "  col = df.pop('date')\n",
        "  df.insert(0, 'date', col)\n",
        "\n",
        "  #Reset Index\n",
        "  df.reset_index(drop=True, inplace=True)\n",
        "\n",
        "  return df"
      ],
      "execution_count": 51,
      "outputs": []
    },
    {
      "cell_type": "code",
      "metadata": {
        "id": "hixNGBUeM8WY",
        "colab_type": "code",
        "colab": {}
      },
      "source": [
        "#Create our Wrangle Function for our temperature dataset\n",
        "def wrangle_temp(df):\n",
        "  \"\"\"This dataset will take in our temperature data set, clean it, and prepare it for \n",
        "  easily joining with the other datasets\"\"\"\n",
        "\n",
        "  #Drop the blank top row\n",
        "  df.drop(index=0, inplace=True)\n",
        "\n",
        "  #Fix our column names\n",
        "  df.columns = df.columns.str.lower().str.replace(' ', '_').str.replace(',', '')\n",
        "\n",
        "  #Create our date column\n",
        "  df['date'] = pd.to_datetime(df[['year', 'month', 'day']])\n",
        "\n",
        "  #move the date column to the front\n",
        "  col = df.pop('date')\n",
        "  df.insert(0, 'date', col)\n",
        "\n",
        "  #Reset Index\n",
        "  df.reset_index(drop=True, inplace=True)\n",
        "\n",
        "  #Drop extra columns that are not needed\n",
        "  df = df.drop(['date_number', 'year', 'month', 'day', 'day_of_year'], axis=1)\n",
        "\n",
        "  return df"
      ],
      "execution_count": 52,
      "outputs": []
    },
    {
      "cell_type": "code",
      "metadata": {
        "id": "1MwawHbMNKPI",
        "colab_type": "code",
        "colab": {}
      },
      "source": [
        "#Create our Wrangle function for our radio flux\n",
        "\n",
        "def wrangle_flux(df):\n",
        "  \"\"\" This function will take in the radio flux dataset and clean\n",
        "  and adjust the data as needed for joining with the other datasets\"\"\"\n",
        "\n",
        "  #Clean column names\n",
        "  df = df.rename(columns={\n",
        "    'year m': 'year',\n",
        "    'onth': 'month',\n",
        "  })\n",
        "\n",
        "  #Create our date column\n",
        "  df['date'] = pd.to_datetime(df[['year', 'month', 'day']])\n",
        "\n",
        "  #Drop extra columns\n",
        "  df = df.drop(['year', 'month', 'day', 'cont_day'], axis=1)\n",
        "\n",
        "  #move our date column to the front\n",
        "  col = df.pop('date')\n",
        "  df.insert(0, 'date', col)\n",
        "\n",
        "  #Reset Index\n",
        "  df.reset_index(drop=True, inplace=True)\n",
        "\n",
        "  return df\n"
      ],
      "execution_count": 53,
      "outputs": []
    },
    {
      "cell_type": "markdown",
      "metadata": {
        "id": "h4n0Mjt4NN2S",
        "colab_type": "text"
      },
      "source": [
        "# Cleaning and Joining our Datasets"
      ]
    },
    {
      "cell_type": "code",
      "metadata": {
        "id": "RO7_2aXYNPhV",
        "colab_type": "code",
        "colab": {}
      },
      "source": [
        "#Clean our datasets\n",
        "sspot = wrangle_sspots(sspot)\n",
        "temp = wrangle_temp(temp)\n",
        "flux = wrangle_flux(flux)"
      ],
      "execution_count": 54,
      "outputs": []
    },
    {
      "cell_type": "code",
      "metadata": {
        "id": "dWLicE7oNeM5",
        "colab_type": "code",
        "colab": {
          "base_uri": "https://localhost:8080/",
          "height": 0
        },
        "outputId": "96b013b9-7015-4121-fea3-59e27b513500"
      },
      "source": [
        "#Join our datasets into a single df that we can work with\n",
        "df = pd.merge(sspot, temp, how='inner', on='date')\n",
        "df = pd.merge(df, flux, how='inner', on='date')\n",
        "\n",
        "df.head()"
      ],
      "execution_count": 55,
      "outputs": [
        {
          "output_type": "execute_result",
          "data": {
            "text/html": [
              "<div>\n",
              "<style scoped>\n",
              "    .dataframe tbody tr th:only-of-type {\n",
              "        vertical-align: middle;\n",
              "    }\n",
              "\n",
              "    .dataframe tbody tr th {\n",
              "        vertical-align: top;\n",
              "    }\n",
              "\n",
              "    .dataframe thead th {\n",
              "        text-align: right;\n",
              "    }\n",
              "</style>\n",
              "<table border=\"1\" class=\"dataframe\">\n",
              "  <thead>\n",
              "    <tr style=\"text-align: right;\">\n",
              "      <th></th>\n",
              "      <th>date</th>\n",
              "      <th>number_of_sunspots</th>\n",
              "      <th>standard_deviation</th>\n",
              "      <th>observations</th>\n",
              "      <th>anomaly</th>\n",
              "      <th>f30</th>\n",
              "      <th>f30_c</th>\n",
              "      <th>f30_p</th>\n",
              "      <th>f30_f</th>\n",
              "      <th>f15</th>\n",
              "      <th>f15_c</th>\n",
              "      <th>f15_p</th>\n",
              "      <th>f15_f</th>\n",
              "      <th>f10.7</th>\n",
              "      <th>f10.7_c</th>\n",
              "      <th>f10.7_p</th>\n",
              "      <th>f10.7_f</th>\n",
              "      <th>f8</th>\n",
              "      <th>f8_c</th>\n",
              "      <th>f8_p</th>\n",
              "      <th>f8_f</th>\n",
              "      <th>f3.2</th>\n",
              "      <th>f3.2_c</th>\n",
              "      <th>f3.2_p</th>\n",
              "      <th>f3.2_f</th>\n",
              "    </tr>\n",
              "  </thead>\n",
              "  <tbody>\n",
              "    <tr>\n",
              "      <th>0</th>\n",
              "      <td>1951-11-01</td>\n",
              "      <td>64.0</td>\n",
              "      <td>5.3</td>\n",
              "      <td>1</td>\n",
              "      <td>-1.914</td>\n",
              "      <td>71.4</td>\n",
              "      <td>71.4</td>\n",
              "      <td>1.9</td>\n",
              "      <td>2</td>\n",
              "      <td>87.6</td>\n",
              "      <td>87.6</td>\n",
              "      <td>2.5</td>\n",
              "      <td>2</td>\n",
              "      <td>107.3</td>\n",
              "      <td>107.3</td>\n",
              "      <td>3.6</td>\n",
              "      <td>0</td>\n",
              "      <td>110.6</td>\n",
              "      <td>110.6</td>\n",
              "      <td>3.1</td>\n",
              "      <td>2</td>\n",
              "      <td>288.9</td>\n",
              "      <td>288.9</td>\n",
              "      <td>3.5</td>\n",
              "      <td>2</td>\n",
              "    </tr>\n",
              "    <tr>\n",
              "      <th>1</th>\n",
              "      <td>1951-11-02</td>\n",
              "      <td>81.0</td>\n",
              "      <td>6.0</td>\n",
              "      <td>1</td>\n",
              "      <td>-2.271</td>\n",
              "      <td>70.3</td>\n",
              "      <td>70.3</td>\n",
              "      <td>1.9</td>\n",
              "      <td>2</td>\n",
              "      <td>85.6</td>\n",
              "      <td>85.6</td>\n",
              "      <td>2.5</td>\n",
              "      <td>2</td>\n",
              "      <td>104.7</td>\n",
              "      <td>104.7</td>\n",
              "      <td>3.6</td>\n",
              "      <td>0</td>\n",
              "      <td>108.3</td>\n",
              "      <td>108.3</td>\n",
              "      <td>3.1</td>\n",
              "      <td>2</td>\n",
              "      <td>287.1</td>\n",
              "      <td>287.1</td>\n",
              "      <td>3.5</td>\n",
              "      <td>2</td>\n",
              "    </tr>\n",
              "    <tr>\n",
              "      <th>2</th>\n",
              "      <td>1951-11-03</td>\n",
              "      <td>65.0</td>\n",
              "      <td>5.4</td>\n",
              "      <td>1</td>\n",
              "      <td>-1.389</td>\n",
              "      <td>69.5</td>\n",
              "      <td>69.5</td>\n",
              "      <td>1.9</td>\n",
              "      <td>2</td>\n",
              "      <td>84.7</td>\n",
              "      <td>84.7</td>\n",
              "      <td>2.5</td>\n",
              "      <td>2</td>\n",
              "      <td>106.1</td>\n",
              "      <td>106.1</td>\n",
              "      <td>3.6</td>\n",
              "      <td>2</td>\n",
              "      <td>107.7</td>\n",
              "      <td>107.7</td>\n",
              "      <td>3.0</td>\n",
              "      <td>2</td>\n",
              "      <td>287.0</td>\n",
              "      <td>287.0</td>\n",
              "      <td>3.5</td>\n",
              "      <td>2</td>\n",
              "    </tr>\n",
              "    <tr>\n",
              "      <th>3</th>\n",
              "      <td>1951-11-04</td>\n",
              "      <td>75.0</td>\n",
              "      <td>5.8</td>\n",
              "      <td>1</td>\n",
              "      <td>-0.913</td>\n",
              "      <td>66.8</td>\n",
              "      <td>66.8</td>\n",
              "      <td>1.9</td>\n",
              "      <td>2</td>\n",
              "      <td>81.1</td>\n",
              "      <td>81.1</td>\n",
              "      <td>2.5</td>\n",
              "      <td>2</td>\n",
              "      <td>107.2</td>\n",
              "      <td>107.2</td>\n",
              "      <td>3.6</td>\n",
              "      <td>0</td>\n",
              "      <td>105.3</td>\n",
              "      <td>105.3</td>\n",
              "      <td>3.0</td>\n",
              "      <td>2</td>\n",
              "      <td>286.8</td>\n",
              "      <td>286.8</td>\n",
              "      <td>3.5</td>\n",
              "      <td>2</td>\n",
              "    </tr>\n",
              "    <tr>\n",
              "      <th>4</th>\n",
              "      <td>1951-11-05</td>\n",
              "      <td>86.0</td>\n",
              "      <td>6.2</td>\n",
              "      <td>1</td>\n",
              "      <td>-0.900</td>\n",
              "      <td>71.8</td>\n",
              "      <td>71.8</td>\n",
              "      <td>1.9</td>\n",
              "      <td>2</td>\n",
              "      <td>88.4</td>\n",
              "      <td>88.4</td>\n",
              "      <td>2.5</td>\n",
              "      <td>2</td>\n",
              "      <td>114.0</td>\n",
              "      <td>114.0</td>\n",
              "      <td>3.6</td>\n",
              "      <td>0</td>\n",
              "      <td>111.3</td>\n",
              "      <td>111.3</td>\n",
              "      <td>3.0</td>\n",
              "      <td>2</td>\n",
              "      <td>288.1</td>\n",
              "      <td>288.1</td>\n",
              "      <td>3.5</td>\n",
              "      <td>2</td>\n",
              "    </tr>\n",
              "  </tbody>\n",
              "</table>\n",
              "</div>"
            ],
            "text/plain": [
              "        date  number_of_sunspots  standard_deviation  ...  f3.2_c  f3.2_p  f3.2_f\n",
              "0 1951-11-01                64.0                 5.3  ...   288.9     3.5       2\n",
              "1 1951-11-02                81.0                 6.0  ...   287.1     3.5       2\n",
              "2 1951-11-03                65.0                 5.4  ...   287.0     3.5       2\n",
              "3 1951-11-04                75.0                 5.8  ...   286.8     3.5       2\n",
              "4 1951-11-05                86.0                 6.2  ...   288.1     3.5       2\n",
              "\n",
              "[5 rows x 25 columns]"
            ]
          },
          "metadata": {
            "tags": []
          },
          "execution_count": 55
        }
      ]
    },
    {
      "cell_type": "code",
      "metadata": {
        "id": "aYZaKe0cVhWG",
        "colab_type": "code",
        "colab": {
          "base_uri": "https://localhost:8080/",
          "height": 0
        },
        "outputId": "88339a86-101b-4578-fb00-b52e11be83f2"
      },
      "source": [
        "df.shape"
      ],
      "execution_count": 56,
      "outputs": [
        {
          "output_type": "execute_result",
          "data": {
            "text/plain": [
              "(24806, 25)"
            ]
          },
          "metadata": {
            "tags": []
          },
          "execution_count": 56
        }
      ]
    },
    {
      "cell_type": "markdown",
      "metadata": {
        "id": "4oDQ1ic2OYIU",
        "colab_type": "text"
      },
      "source": [
        "#Train Test Split\n",
        "\n",
        "Below we will split our dataset into training/validation and testing sets."
      ]
    },
    {
      "cell_type": "code",
      "metadata": {
        "id": "lrJCXvKYVnW4",
        "colab_type": "code",
        "colab": {}
      },
      "source": [
        "#Create our train/test split function\n",
        "\n",
        "def split(df):\n",
        "  \"\"\"This function will take in our dataset, strip off the time/date stamp,\n",
        "  and split our dataset into different sets, stratifying on the number of sunspots\"\"\"\n",
        "\n",
        "  #Drop our datetime column so we can use linear regression\n",
        "  df = df.drop('date', axis=1)\n",
        "\n",
        "  #Split our datasets into Training and testing sets\n",
        "  train, test = train_test_split(df, train_size=0.8, test_size=0.2, random_state=42)\n",
        "\n",
        "  #Now split our training set into Training and Validation sets\n",
        "  train, val = train_test_split(train, train_size=0.8, test_size=0.2, random_state=42)\n",
        "\n",
        "  return train, val, test\n",
        "\n",
        "\n"
      ],
      "execution_count": 57,
      "outputs": []
    },
    {
      "cell_type": "code",
      "metadata": {
        "id": "BkgWnp8Safe_",
        "colab_type": "code",
        "colab": {
          "base_uri": "https://localhost:8080/",
          "height": 0
        },
        "outputId": "a00e97f9-0795-4ff5-afe4-c74215713869"
      },
      "source": [
        "train, val, test = split(df)\n",
        "train.shape, val.shape, test.shape"
      ],
      "execution_count": 58,
      "outputs": [
        {
          "output_type": "execute_result",
          "data": {
            "text/plain": [
              "((15875, 24), (3969, 24), (4962, 24))"
            ]
          },
          "metadata": {
            "tags": []
          },
          "execution_count": 58
        }
      ]
    },
    {
      "cell_type": "code",
      "metadata": {
        "id": "fS5FNCbgmUmJ",
        "colab_type": "code",
        "colab": {
          "base_uri": "https://localhost:8080/",
          "height": 0
        },
        "outputId": "38ef13e9-eff3-4923-92d4-696c2c17e55a"
      },
      "source": [
        "train.head()"
      ],
      "execution_count": 59,
      "outputs": [
        {
          "output_type": "execute_result",
          "data": {
            "text/html": [
              "<div>\n",
              "<style scoped>\n",
              "    .dataframe tbody tr th:only-of-type {\n",
              "        vertical-align: middle;\n",
              "    }\n",
              "\n",
              "    .dataframe tbody tr th {\n",
              "        vertical-align: top;\n",
              "    }\n",
              "\n",
              "    .dataframe thead th {\n",
              "        text-align: right;\n",
              "    }\n",
              "</style>\n",
              "<table border=\"1\" class=\"dataframe\">\n",
              "  <thead>\n",
              "    <tr style=\"text-align: right;\">\n",
              "      <th></th>\n",
              "      <th>number_of_sunspots</th>\n",
              "      <th>standard_deviation</th>\n",
              "      <th>observations</th>\n",
              "      <th>anomaly</th>\n",
              "      <th>f30</th>\n",
              "      <th>f30_c</th>\n",
              "      <th>f30_p</th>\n",
              "      <th>f30_f</th>\n",
              "      <th>f15</th>\n",
              "      <th>f15_c</th>\n",
              "      <th>f15_p</th>\n",
              "      <th>f15_f</th>\n",
              "      <th>f10.7</th>\n",
              "      <th>f10.7_c</th>\n",
              "      <th>f10.7_p</th>\n",
              "      <th>f10.7_f</th>\n",
              "      <th>f8</th>\n",
              "      <th>f8_c</th>\n",
              "      <th>f8_p</th>\n",
              "      <th>f8_f</th>\n",
              "      <th>f3.2</th>\n",
              "      <th>f3.2_c</th>\n",
              "      <th>f3.2_p</th>\n",
              "      <th>f3.2_f</th>\n",
              "    </tr>\n",
              "  </thead>\n",
              "  <tbody>\n",
              "    <tr>\n",
              "      <th>1241</th>\n",
              "      <td>0.0</td>\n",
              "      <td>0.0</td>\n",
              "      <td>1</td>\n",
              "      <td>-1.786</td>\n",
              "      <td>48.3</td>\n",
              "      <td>48.3</td>\n",
              "      <td>1.0</td>\n",
              "      <td>2</td>\n",
              "      <td>57.0</td>\n",
              "      <td>57.0</td>\n",
              "      <td>1.3</td>\n",
              "      <td>2</td>\n",
              "      <td>72.6</td>\n",
              "      <td>72.6</td>\n",
              "      <td>1.9</td>\n",
              "      <td>2</td>\n",
              "      <td>80.0</td>\n",
              "      <td>80.0</td>\n",
              "      <td>1.4</td>\n",
              "      <td>0</td>\n",
              "      <td>257.7</td>\n",
              "      <td>257.7</td>\n",
              "      <td>1.5</td>\n",
              "      <td>2</td>\n",
              "    </tr>\n",
              "    <tr>\n",
              "      <th>14949</th>\n",
              "      <td>183.0</td>\n",
              "      <td>6.7</td>\n",
              "      <td>10</td>\n",
              "      <td>-0.636</td>\n",
              "      <td>90.0</td>\n",
              "      <td>90.0</td>\n",
              "      <td>2.7</td>\n",
              "      <td>0</td>\n",
              "      <td>106.0</td>\n",
              "      <td>106.0</td>\n",
              "      <td>3.4</td>\n",
              "      <td>0</td>\n",
              "      <td>130.2</td>\n",
              "      <td>130.2</td>\n",
              "      <td>5.1</td>\n",
              "      <td>0</td>\n",
              "      <td>128.0</td>\n",
              "      <td>128.0</td>\n",
              "      <td>4.3</td>\n",
              "      <td>0</td>\n",
              "      <td>283.0</td>\n",
              "      <td>283.0</td>\n",
              "      <td>4.0</td>\n",
              "      <td>0</td>\n",
              "    </tr>\n",
              "    <tr>\n",
              "      <th>1278</th>\n",
              "      <td>31.0</td>\n",
              "      <td>3.8</td>\n",
              "      <td>1</td>\n",
              "      <td>0.296</td>\n",
              "      <td>53.1</td>\n",
              "      <td>53.1</td>\n",
              "      <td>1.1</td>\n",
              "      <td>2</td>\n",
              "      <td>63.9</td>\n",
              "      <td>63.9</td>\n",
              "      <td>1.3</td>\n",
              "      <td>2</td>\n",
              "      <td>79.8</td>\n",
              "      <td>79.8</td>\n",
              "      <td>1.9</td>\n",
              "      <td>0</td>\n",
              "      <td>84.0</td>\n",
              "      <td>84.0</td>\n",
              "      <td>1.4</td>\n",
              "      <td>0</td>\n",
              "      <td>253.5</td>\n",
              "      <td>253.5</td>\n",
              "      <td>1.4</td>\n",
              "      <td>2</td>\n",
              "    </tr>\n",
              "    <tr>\n",
              "      <th>2192</th>\n",
              "      <td>377.0</td>\n",
              "      <td>13.0</td>\n",
              "      <td>1</td>\n",
              "      <td>1.118</td>\n",
              "      <td>177.0</td>\n",
              "      <td>177.0</td>\n",
              "      <td>5.1</td>\n",
              "      <td>0</td>\n",
              "      <td>239.0</td>\n",
              "      <td>239.0</td>\n",
              "      <td>7.2</td>\n",
              "      <td>0</td>\n",
              "      <td>303.3</td>\n",
              "      <td>303.3</td>\n",
              "      <td>12.0</td>\n",
              "      <td>0</td>\n",
              "      <td>269.0</td>\n",
              "      <td>269.0</td>\n",
              "      <td>10.5</td>\n",
              "      <td>0</td>\n",
              "      <td>393.0</td>\n",
              "      <td>393.0</td>\n",
              "      <td>10.4</td>\n",
              "      <td>0</td>\n",
              "    </tr>\n",
              "    <tr>\n",
              "      <th>2295</th>\n",
              "      <td>251.0</td>\n",
              "      <td>10.6</td>\n",
              "      <td>1</td>\n",
              "      <td>-0.727</td>\n",
              "      <td>146.0</td>\n",
              "      <td>146.0</td>\n",
              "      <td>5.4</td>\n",
              "      <td>0</td>\n",
              "      <td>191.0</td>\n",
              "      <td>191.0</td>\n",
              "      <td>7.5</td>\n",
              "      <td>0</td>\n",
              "      <td>228.1</td>\n",
              "      <td>228.1</td>\n",
              "      <td>12.2</td>\n",
              "      <td>0</td>\n",
              "      <td>209.0</td>\n",
              "      <td>209.0</td>\n",
              "      <td>10.0</td>\n",
              "      <td>0</td>\n",
              "      <td>377.0</td>\n",
              "      <td>377.0</td>\n",
              "      <td>10.1</td>\n",
              "      <td>0</td>\n",
              "    </tr>\n",
              "  </tbody>\n",
              "</table>\n",
              "</div>"
            ],
            "text/plain": [
              "       number_of_sunspots  standard_deviation  ...  f3.2_p  f3.2_f\n",
              "1241                  0.0                 0.0  ...     1.5       2\n",
              "14949               183.0                 6.7  ...     4.0       0\n",
              "1278                 31.0                 3.8  ...     1.4       2\n",
              "2192                377.0                13.0  ...    10.4       0\n",
              "2295                251.0                10.6  ...    10.1       0\n",
              "\n",
              "[5 rows x 24 columns]"
            ]
          },
          "metadata": {
            "tags": []
          },
          "execution_count": 59
        }
      ]
    },
    {
      "cell_type": "code",
      "metadata": {
        "id": "iKmoAW6hlBbS",
        "colab_type": "code",
        "colab": {}
      },
      "source": [
        "#Split our data into X and y sets\n",
        "target = 'number_of_sunspots'\n",
        "\n",
        "X_train = train.drop(columns=target)\n",
        "y_train = train[target]\n",
        "\n",
        "X_val = val.drop(columns=target)\n",
        "y_val = val[target]\n",
        "\n",
        "X_test = test.drop(columns=target)\n",
        "y_test = test[target]"
      ],
      "execution_count": 60,
      "outputs": []
    },
    {
      "cell_type": "markdown",
      "metadata": {
        "id": "HgK_KPLXjLzg",
        "colab_type": "text"
      },
      "source": [
        "# Create our baseline"
      ]
    },
    {
      "cell_type": "code",
      "metadata": {
        "id": "jtGuEwlEjWxk",
        "colab_type": "code",
        "colab": {
          "base_uri": "https://localhost:8080/",
          "height": 51
        },
        "outputId": "99842c15-dc95-48c3-bf04-407ce4d7b00f"
      },
      "source": [
        "#Create our baseline and print out our target mean and MAE\n",
        "guess = y_train.mean()\n",
        "errors = guess - y_train\n",
        "mae = errors.abs().mean()\n",
        "print('Our target mean is', guess)\n",
        "print('Our naive baseline MAE is', mae)"
      ],
      "execution_count": 61,
      "outputs": [
        {
          "output_type": "stream",
          "text": [
            "Our target mean is 91.89492913385827\n",
            "Our naive baseline MAE is 67.80079793861772\n"
          ],
          "name": "stdout"
        }
      ]
    },
    {
      "cell_type": "markdown",
      "metadata": {
        "id": "7pFsXM-ujcxk",
        "colab_type": "text"
      },
      "source": [
        "# Create our initial pipeline\n"
      ]
    },
    {
      "cell_type": "code",
      "metadata": {
        "id": "YfqtCCG7nxoU",
        "colab_type": "code",
        "colab": {}
      },
      "source": [
        "model = make_pipeline(\n",
        "    StandardScaler(),\n",
        "    SelectKBest(k=all),\n",
        "    LinearRegression()\n",
        ")"
      ],
      "execution_count": 90,
      "outputs": []
    },
    {
      "cell_type": "code",
      "metadata": {
        "id": "hLPBDrrvo9ny",
        "colab_type": "code",
        "colab": {
          "base_uri": "https://localhost:8080/",
          "height": 307
        },
        "outputId": "559b2cf7-1714-4931-9c60-5e47312585cf"
      },
      "source": [
        "model.fit(X_train, y_train)"
      ],
      "execution_count": 91,
      "outputs": [
        {
          "output_type": "error",
          "ename": "TypeError",
          "evalue": "ignored",
          "traceback": [
            "\u001b[0;31m---------------------------------------------------------------------------\u001b[0m",
            "\u001b[0;31mTypeError\u001b[0m                                 Traceback (most recent call last)",
            "\u001b[0;32m<ipython-input-91-d768f88d541e>\u001b[0m in \u001b[0;36m<module>\u001b[0;34m()\u001b[0m\n\u001b[0;32m----> 1\u001b[0;31m \u001b[0mmodel\u001b[0m\u001b[0;34m.\u001b[0m\u001b[0mfit\u001b[0m\u001b[0;34m(\u001b[0m\u001b[0mX_train\u001b[0m\u001b[0;34m,\u001b[0m \u001b[0my_train\u001b[0m\u001b[0;34m)\u001b[0m\u001b[0;34m\u001b[0m\u001b[0;34m\u001b[0m\u001b[0m\n\u001b[0m",
            "\u001b[0;32m/usr/local/lib/python3.6/dist-packages/sklearn/pipeline.py\u001b[0m in \u001b[0;36mfit\u001b[0;34m(self, X, y, **fit_params)\u001b[0m\n\u001b[1;32m    348\u001b[0m             \u001b[0mThis\u001b[0m \u001b[0mestimator\u001b[0m\u001b[0;34m\u001b[0m\u001b[0;34m\u001b[0m\u001b[0m\n\u001b[1;32m    349\u001b[0m         \"\"\"\n\u001b[0;32m--> 350\u001b[0;31m         \u001b[0mXt\u001b[0m\u001b[0;34m,\u001b[0m \u001b[0mfit_params\u001b[0m \u001b[0;34m=\u001b[0m \u001b[0mself\u001b[0m\u001b[0;34m.\u001b[0m\u001b[0m_fit\u001b[0m\u001b[0;34m(\u001b[0m\u001b[0mX\u001b[0m\u001b[0;34m,\u001b[0m \u001b[0my\u001b[0m\u001b[0;34m,\u001b[0m \u001b[0;34m**\u001b[0m\u001b[0mfit_params\u001b[0m\u001b[0;34m)\u001b[0m\u001b[0;34m\u001b[0m\u001b[0;34m\u001b[0m\u001b[0m\n\u001b[0m\u001b[1;32m    351\u001b[0m         with _print_elapsed_time('Pipeline',\n\u001b[1;32m    352\u001b[0m                                  self._log_message(len(self.steps) - 1)):\n",
            "\u001b[0;32m/usr/local/lib/python3.6/dist-packages/sklearn/pipeline.py\u001b[0m in \u001b[0;36m_fit\u001b[0;34m(self, X, y, **fit_params)\u001b[0m\n\u001b[1;32m    313\u001b[0m                 \u001b[0mmessage_clsname\u001b[0m\u001b[0;34m=\u001b[0m\u001b[0;34m'Pipeline'\u001b[0m\u001b[0;34m,\u001b[0m\u001b[0;34m\u001b[0m\u001b[0;34m\u001b[0m\u001b[0m\n\u001b[1;32m    314\u001b[0m                 \u001b[0mmessage\u001b[0m\u001b[0;34m=\u001b[0m\u001b[0mself\u001b[0m\u001b[0;34m.\u001b[0m\u001b[0m_log_message\u001b[0m\u001b[0;34m(\u001b[0m\u001b[0mstep_idx\u001b[0m\u001b[0;34m)\u001b[0m\u001b[0;34m,\u001b[0m\u001b[0;34m\u001b[0m\u001b[0;34m\u001b[0m\u001b[0m\n\u001b[0;32m--> 315\u001b[0;31m                 **fit_params_steps[name])\n\u001b[0m\u001b[1;32m    316\u001b[0m             \u001b[0;31m# Replace the transformer of the step with the fitted\u001b[0m\u001b[0;34m\u001b[0m\u001b[0;34m\u001b[0m\u001b[0;34m\u001b[0m\u001b[0m\n\u001b[1;32m    317\u001b[0m             \u001b[0;31m# transformer. This is necessary when loading the transformer\u001b[0m\u001b[0;34m\u001b[0m\u001b[0;34m\u001b[0m\u001b[0;34m\u001b[0m\u001b[0m\n",
            "\u001b[0;32m/usr/local/lib/python3.6/dist-packages/joblib/memory.py\u001b[0m in \u001b[0;36m__call__\u001b[0;34m(self, *args, **kwargs)\u001b[0m\n\u001b[1;32m    350\u001b[0m \u001b[0;34m\u001b[0m\u001b[0m\n\u001b[1;32m    351\u001b[0m     \u001b[0;32mdef\u001b[0m \u001b[0m__call__\u001b[0m\u001b[0;34m(\u001b[0m\u001b[0mself\u001b[0m\u001b[0;34m,\u001b[0m \u001b[0;34m*\u001b[0m\u001b[0margs\u001b[0m\u001b[0;34m,\u001b[0m \u001b[0;34m**\u001b[0m\u001b[0mkwargs\u001b[0m\u001b[0;34m)\u001b[0m\u001b[0;34m:\u001b[0m\u001b[0;34m\u001b[0m\u001b[0;34m\u001b[0m\u001b[0m\n\u001b[0;32m--> 352\u001b[0;31m         \u001b[0;32mreturn\u001b[0m \u001b[0mself\u001b[0m\u001b[0;34m.\u001b[0m\u001b[0mfunc\u001b[0m\u001b[0;34m(\u001b[0m\u001b[0;34m*\u001b[0m\u001b[0margs\u001b[0m\u001b[0;34m,\u001b[0m \u001b[0;34m**\u001b[0m\u001b[0mkwargs\u001b[0m\u001b[0;34m)\u001b[0m\u001b[0;34m\u001b[0m\u001b[0;34m\u001b[0m\u001b[0m\n\u001b[0m\u001b[1;32m    353\u001b[0m \u001b[0;34m\u001b[0m\u001b[0m\n\u001b[1;32m    354\u001b[0m     \u001b[0;32mdef\u001b[0m \u001b[0mcall_and_shelve\u001b[0m\u001b[0;34m(\u001b[0m\u001b[0mself\u001b[0m\u001b[0;34m,\u001b[0m \u001b[0;34m*\u001b[0m\u001b[0margs\u001b[0m\u001b[0;34m,\u001b[0m \u001b[0;34m**\u001b[0m\u001b[0mkwargs\u001b[0m\u001b[0;34m)\u001b[0m\u001b[0;34m:\u001b[0m\u001b[0;34m\u001b[0m\u001b[0;34m\u001b[0m\u001b[0m\n",
            "\u001b[0;32m/usr/local/lib/python3.6/dist-packages/sklearn/pipeline.py\u001b[0m in \u001b[0;36m_fit_transform_one\u001b[0;34m(transformer, X, y, weight, message_clsname, message, **fit_params)\u001b[0m\n\u001b[1;32m    726\u001b[0m     \u001b[0;32mwith\u001b[0m \u001b[0m_print_elapsed_time\u001b[0m\u001b[0;34m(\u001b[0m\u001b[0mmessage_clsname\u001b[0m\u001b[0;34m,\u001b[0m \u001b[0mmessage\u001b[0m\u001b[0;34m)\u001b[0m\u001b[0;34m:\u001b[0m\u001b[0;34m\u001b[0m\u001b[0;34m\u001b[0m\u001b[0m\n\u001b[1;32m    727\u001b[0m         \u001b[0;32mif\u001b[0m \u001b[0mhasattr\u001b[0m\u001b[0;34m(\u001b[0m\u001b[0mtransformer\u001b[0m\u001b[0;34m,\u001b[0m \u001b[0;34m'fit_transform'\u001b[0m\u001b[0;34m)\u001b[0m\u001b[0;34m:\u001b[0m\u001b[0;34m\u001b[0m\u001b[0;34m\u001b[0m\u001b[0m\n\u001b[0;32m--> 728\u001b[0;31m             \u001b[0mres\u001b[0m \u001b[0;34m=\u001b[0m \u001b[0mtransformer\u001b[0m\u001b[0;34m.\u001b[0m\u001b[0mfit_transform\u001b[0m\u001b[0;34m(\u001b[0m\u001b[0mX\u001b[0m\u001b[0;34m,\u001b[0m \u001b[0my\u001b[0m\u001b[0;34m,\u001b[0m \u001b[0;34m**\u001b[0m\u001b[0mfit_params\u001b[0m\u001b[0;34m)\u001b[0m\u001b[0;34m\u001b[0m\u001b[0;34m\u001b[0m\u001b[0m\n\u001b[0m\u001b[1;32m    729\u001b[0m         \u001b[0;32melse\u001b[0m\u001b[0;34m:\u001b[0m\u001b[0;34m\u001b[0m\u001b[0;34m\u001b[0m\u001b[0m\n\u001b[1;32m    730\u001b[0m             \u001b[0mres\u001b[0m \u001b[0;34m=\u001b[0m \u001b[0mtransformer\u001b[0m\u001b[0;34m.\u001b[0m\u001b[0mfit\u001b[0m\u001b[0;34m(\u001b[0m\u001b[0mX\u001b[0m\u001b[0;34m,\u001b[0m \u001b[0my\u001b[0m\u001b[0;34m,\u001b[0m \u001b[0;34m**\u001b[0m\u001b[0mfit_params\u001b[0m\u001b[0;34m)\u001b[0m\u001b[0;34m.\u001b[0m\u001b[0mtransform\u001b[0m\u001b[0;34m(\u001b[0m\u001b[0mX\u001b[0m\u001b[0;34m)\u001b[0m\u001b[0;34m\u001b[0m\u001b[0;34m\u001b[0m\u001b[0m\n",
            "\u001b[0;32m/usr/local/lib/python3.6/dist-packages/sklearn/base.py\u001b[0m in \u001b[0;36mfit_transform\u001b[0;34m(self, X, y, **fit_params)\u001b[0m\n\u001b[1;32m    572\u001b[0m         \u001b[0;32melse\u001b[0m\u001b[0;34m:\u001b[0m\u001b[0;34m\u001b[0m\u001b[0;34m\u001b[0m\u001b[0m\n\u001b[1;32m    573\u001b[0m             \u001b[0;31m# fit method of arity 2 (supervised transformation)\u001b[0m\u001b[0;34m\u001b[0m\u001b[0;34m\u001b[0m\u001b[0;34m\u001b[0m\u001b[0m\n\u001b[0;32m--> 574\u001b[0;31m             \u001b[0;32mreturn\u001b[0m \u001b[0mself\u001b[0m\u001b[0;34m.\u001b[0m\u001b[0mfit\u001b[0m\u001b[0;34m(\u001b[0m\u001b[0mX\u001b[0m\u001b[0;34m,\u001b[0m \u001b[0my\u001b[0m\u001b[0;34m,\u001b[0m \u001b[0;34m**\u001b[0m\u001b[0mfit_params\u001b[0m\u001b[0;34m)\u001b[0m\u001b[0;34m.\u001b[0m\u001b[0mtransform\u001b[0m\u001b[0;34m(\u001b[0m\u001b[0mX\u001b[0m\u001b[0;34m)\u001b[0m\u001b[0;34m\u001b[0m\u001b[0;34m\u001b[0m\u001b[0m\n\u001b[0m\u001b[1;32m    575\u001b[0m \u001b[0;34m\u001b[0m\u001b[0m\n\u001b[1;32m    576\u001b[0m \u001b[0;34m\u001b[0m\u001b[0m\n",
            "\u001b[0;32m/usr/local/lib/python3.6/dist-packages/sklearn/feature_selection/_univariate_selection.py\u001b[0m in \u001b[0;36mfit\u001b[0;34m(self, X, y)\u001b[0m\n\u001b[1;32m    346\u001b[0m                             % (self.score_func, type(self.score_func)))\n\u001b[1;32m    347\u001b[0m \u001b[0;34m\u001b[0m\u001b[0m\n\u001b[0;32m--> 348\u001b[0;31m         \u001b[0mself\u001b[0m\u001b[0;34m.\u001b[0m\u001b[0m_check_params\u001b[0m\u001b[0;34m(\u001b[0m\u001b[0mX\u001b[0m\u001b[0;34m,\u001b[0m \u001b[0my\u001b[0m\u001b[0;34m)\u001b[0m\u001b[0;34m\u001b[0m\u001b[0;34m\u001b[0m\u001b[0m\n\u001b[0m\u001b[1;32m    349\u001b[0m         \u001b[0mscore_func_ret\u001b[0m \u001b[0;34m=\u001b[0m \u001b[0mself\u001b[0m\u001b[0;34m.\u001b[0m\u001b[0mscore_func\u001b[0m\u001b[0;34m(\u001b[0m\u001b[0mX\u001b[0m\u001b[0;34m,\u001b[0m \u001b[0my\u001b[0m\u001b[0;34m)\u001b[0m\u001b[0;34m\u001b[0m\u001b[0;34m\u001b[0m\u001b[0m\n\u001b[1;32m    350\u001b[0m         \u001b[0;32mif\u001b[0m \u001b[0misinstance\u001b[0m\u001b[0;34m(\u001b[0m\u001b[0mscore_func_ret\u001b[0m\u001b[0;34m,\u001b[0m \u001b[0;34m(\u001b[0m\u001b[0mlist\u001b[0m\u001b[0;34m,\u001b[0m \u001b[0mtuple\u001b[0m\u001b[0;34m)\u001b[0m\u001b[0;34m)\u001b[0m\u001b[0;34m:\u001b[0m\u001b[0;34m\u001b[0m\u001b[0;34m\u001b[0m\u001b[0m\n",
            "\u001b[0;32m/usr/local/lib/python3.6/dist-packages/sklearn/feature_selection/_univariate_selection.py\u001b[0m in \u001b[0;36m_check_params\u001b[0;34m(self, X, y)\u001b[0m\n\u001b[1;32m    509\u001b[0m \u001b[0;34m\u001b[0m\u001b[0m\n\u001b[1;32m    510\u001b[0m     \u001b[0;32mdef\u001b[0m \u001b[0m_check_params\u001b[0m\u001b[0;34m(\u001b[0m\u001b[0mself\u001b[0m\u001b[0;34m,\u001b[0m \u001b[0mX\u001b[0m\u001b[0;34m,\u001b[0m \u001b[0my\u001b[0m\u001b[0;34m)\u001b[0m\u001b[0;34m:\u001b[0m\u001b[0;34m\u001b[0m\u001b[0;34m\u001b[0m\u001b[0m\n\u001b[0;32m--> 511\u001b[0;31m         \u001b[0;32mif\u001b[0m \u001b[0;32mnot\u001b[0m \u001b[0;34m(\u001b[0m\u001b[0mself\u001b[0m\u001b[0;34m.\u001b[0m\u001b[0mk\u001b[0m \u001b[0;34m==\u001b[0m \u001b[0;34m\"all\"\u001b[0m \u001b[0;32mor\u001b[0m \u001b[0;36m0\u001b[0m \u001b[0;34m<=\u001b[0m \u001b[0mself\u001b[0m\u001b[0;34m.\u001b[0m\u001b[0mk\u001b[0m \u001b[0;34m<=\u001b[0m \u001b[0mX\u001b[0m\u001b[0;34m.\u001b[0m\u001b[0mshape\u001b[0m\u001b[0;34m[\u001b[0m\u001b[0;36m1\u001b[0m\u001b[0;34m]\u001b[0m\u001b[0;34m)\u001b[0m\u001b[0;34m:\u001b[0m\u001b[0;34m\u001b[0m\u001b[0;34m\u001b[0m\u001b[0m\n\u001b[0m\u001b[1;32m    512\u001b[0m             raise ValueError(\"k should be >=0, <= n_features = %d; got %r. \"\n\u001b[1;32m    513\u001b[0m                              \u001b[0;34m\"Use k='all' to return all features.\"\u001b[0m\u001b[0;34m\u001b[0m\u001b[0;34m\u001b[0m\u001b[0m\n",
            "\u001b[0;31mTypeError\u001b[0m: '<=' not supported between instances of 'int' and 'builtin_function_or_method'"
          ]
        }
      ]
    },
    {
      "cell_type": "code",
      "metadata": {
        "id": "6z1CjR8fpAJq",
        "colab_type": "code",
        "colab": {
          "base_uri": "https://localhost:8080/",
          "height": 51
        },
        "outputId": "0b3e9675-777e-4930-f40d-a0f4f7748644"
      },
      "source": [
        "#Check our accuracy on our different sets\n",
        "print('Training Accuracy: ', model.score(X_train, y_train))\n",
        "print('Validation Accuracy: ', model.score(X_val, y_val))"
      ],
      "execution_count": 64,
      "outputs": [
        {
          "output_type": "stream",
          "text": [
            "Training Accuracy:  0.9288605665538838\n",
            "Validation Accuracy:  0.9330391150439348\n"
          ],
          "name": "stdout"
        }
      ]
    },
    {
      "cell_type": "code",
      "metadata": {
        "id": "BemeXC-8poQc",
        "colab_type": "code",
        "colab": {
          "base_uri": "https://localhost:8080/",
          "height": 34
        },
        "outputId": "f0636bd4-825c-4ea0-b93d-a50342730e63"
      },
      "source": [
        "print('Testing Accuracy: ', model.score(X_test, y_test))"
      ],
      "execution_count": 73,
      "outputs": [
        {
          "output_type": "stream",
          "text": [
            "Testing Accuracy:  0.9326259096319006\n"
          ],
          "name": "stdout"
        }
      ]
    },
    {
      "cell_type": "markdown",
      "metadata": {
        "id": "duq3eWV3psAi",
        "colab_type": "text"
      },
      "source": [
        "# Additional Model Exploration\n",
        "\n",
        "Below we will play with and try additional models and metrics to evaluate and look at our permutation importance"
      ]
    },
    {
      "cell_type": "code",
      "metadata": {
        "id": "8H1QW4zp5q-j",
        "colab_type": "code",
        "colab": {
          "base_uri": "https://localhost:8080/",
          "height": 119
        },
        "outputId": "de2d8325-ad20-4406-ea31-ac8d5ea7d5ab"
      },
      "source": [
        "#Try and get feature importances\n",
        "lr = model.named_steps['linearregression']\n",
        "importance = lr.coef_\n",
        "\n",
        "print(importance)"
      ],
      "execution_count": 78,
      "outputs": [
        {
          "output_type": "stream",
          "text": [
            "[ 1.68867867e+01 -4.66565705e+00 -6.78963539e-01 -4.29722518e+02\n",
            "  4.21356751e+02  2.53227374e+01 -1.96902618e+00  1.01224173e+03\n",
            " -9.83742266e+02 -5.83767156e+01  4.48925690e+00 -1.47826264e+02\n",
            "  2.01307320e+02  1.08291825e+01 -1.17307063e-01 -8.20413138e+00\n",
            "  3.16615887e+01  1.85395551e+00  1.30413237e-01 -1.99418444e+02\n",
            "  1.68391768e+02  1.99244803e+01 -1.73749674e+00]\n"
          ],
          "name": "stdout"
        }
      ]
    },
    {
      "cell_type": "code",
      "metadata": {
        "id": "fF-u9Oft7nzP",
        "colab_type": "code",
        "colab": {
          "base_uri": "https://localhost:8080/",
          "height": 408
        },
        "outputId": "539001e9-e78a-4fb5-81dc-f3be4f8580a0"
      },
      "source": [
        "for i, v in enumerate(importance):\n",
        "  print('Feature: %0d, Score: %.5f' % (i, v))"
      ],
      "execution_count": 80,
      "outputs": [
        {
          "output_type": "stream",
          "text": [
            "Feature: 0, Score: 16.88679\n",
            "Feature: 1, Score: -4.66566\n",
            "Feature: 2, Score: -0.67896\n",
            "Feature: 3, Score: -429.72252\n",
            "Feature: 4, Score: 421.35675\n",
            "Feature: 5, Score: 25.32274\n",
            "Feature: 6, Score: -1.96903\n",
            "Feature: 7, Score: 1012.24173\n",
            "Feature: 8, Score: -983.74227\n",
            "Feature: 9, Score: -58.37672\n",
            "Feature: 10, Score: 4.48926\n",
            "Feature: 11, Score: -147.82626\n",
            "Feature: 12, Score: 201.30732\n",
            "Feature: 13, Score: 10.82918\n",
            "Feature: 14, Score: -0.11731\n",
            "Feature: 15, Score: -8.20413\n",
            "Feature: 16, Score: 31.66159\n",
            "Feature: 17, Score: 1.85396\n",
            "Feature: 18, Score: 0.13041\n",
            "Feature: 19, Score: -199.41844\n",
            "Feature: 20, Score: 168.39177\n",
            "Feature: 21, Score: 19.92448\n",
            "Feature: 22, Score: -1.73750\n"
          ],
          "name": "stdout"
        }
      ]
    },
    {
      "cell_type": "code",
      "metadata": {
        "id": "UXt2sIuwCQ1-",
        "colab_type": "code",
        "colab": {
          "base_uri": "https://localhost:8080/",
          "height": 265
        },
        "outputId": "efb82d53-a735-443a-e1dd-14a7cfbd4d52"
      },
      "source": [
        "plt.bar([x for x in range(len(importance))], importance)\n",
        "\n",
        "plt.show()"
      ],
      "execution_count": 84,
      "outputs": [
        {
          "output_type": "display_data",
          "data": {
            "image/png": "[encoded data removed]",
            "text/plain": [
              "<Figure size 432x288 with 1 Axes>"
            ]
          },
          "metadata": {
            "tags": [],
            "needs_background": "light"
          }
        }
      ]
    },
    {
      "cell_type": "code",
      "metadata": {
        "id": "sG00_NUPCZak",
        "colab_type": "code",
        "colab": {
          "base_uri": "https://localhost:8080/",
          "height": 204
        },
        "outputId": "d686ef53-ad94-49df-c446-b3e6e67a4eb4"
      },
      "source": [
        "X_train.head()"
      ],
      "execution_count": 85,
      "outputs": [
        {
          "output_type": "execute_result",
          "data": {
            "text/html": [
              "<div>\n",
              "<style scoped>\n",
              "    .dataframe tbody tr th:only-of-type {\n",
              "        vertical-align: middle;\n",
              "    }\n",
              "\n",
              "    .dataframe tbody tr th {\n",
              "        vertical-align: top;\n",
              "    }\n",
              "\n",
              "    .dataframe thead th {\n",
              "        text-align: right;\n",
              "    }\n",
              "</style>\n",
              "<table border=\"1\" class=\"dataframe\">\n",
              "  <thead>\n",
              "    <tr style=\"text-align: right;\">\n",
              "      <th></th>\n",
              "      <th>standard_deviation</th>\n",
              "      <th>observations</th>\n",
              "      <th>anomaly</th>\n",
              "      <th>f30</th>\n",
              "      <th>f30_c</th>\n",
              "      <th>f30_p</th>\n",
              "      <th>f30_f</th>\n",
              "      <th>f15</th>\n",
              "      <th>f15_c</th>\n",
              "      <th>f15_p</th>\n",
              "      <th>f15_f</th>\n",
              "      <th>f10.7</th>\n",
              "      <th>f10.7_c</th>\n",
              "      <th>f10.7_p</th>\n",
              "      <th>f10.7_f</th>\n",
              "      <th>f8</th>\n",
              "      <th>f8_c</th>\n",
              "      <th>f8_p</th>\n",
              "      <th>f8_f</th>\n",
              "      <th>f3.2</th>\n",
              "      <th>f3.2_c</th>\n",
              "      <th>f3.2_p</th>\n",
              "      <th>f3.2_f</th>\n",
              "    </tr>\n",
              "  </thead>\n",
              "  <tbody>\n",
              "    <tr>\n",
              "      <th>1241</th>\n",
              "      <td>0.0</td>\n",
              "      <td>1</td>\n",
              "      <td>-1.786</td>\n",
              "      <td>48.3</td>\n",
              "      <td>48.3</td>\n",
              "      <td>1.0</td>\n",
              "      <td>2</td>\n",
              "      <td>57.0</td>\n",
              "      <td>57.0</td>\n",
              "      <td>1.3</td>\n",
              "      <td>2</td>\n",
              "      <td>72.6</td>\n",
              "      <td>72.6</td>\n",
              "      <td>1.9</td>\n",
              "      <td>2</td>\n",
              "      <td>80.0</td>\n",
              "      <td>80.0</td>\n",
              "      <td>1.4</td>\n",
              "      <td>0</td>\n",
              "      <td>257.7</td>\n",
              "      <td>257.7</td>\n",
              "      <td>1.5</td>\n",
              "      <td>2</td>\n",
              "    </tr>\n",
              "    <tr>\n",
              "      <th>14949</th>\n",
              "      <td>6.7</td>\n",
              "      <td>10</td>\n",
              "      <td>-0.636</td>\n",
              "      <td>90.0</td>\n",
              "      <td>90.0</td>\n",
              "      <td>2.7</td>\n",
              "      <td>0</td>\n",
              "      <td>106.0</td>\n",
              "      <td>106.0</td>\n",
              "      <td>3.4</td>\n",
              "      <td>0</td>\n",
              "      <td>130.2</td>\n",
              "      <td>130.2</td>\n",
              "      <td>5.1</td>\n",
              "      <td>0</td>\n",
              "      <td>128.0</td>\n",
              "      <td>128.0</td>\n",
              "      <td>4.3</td>\n",
              "      <td>0</td>\n",
              "      <td>283.0</td>\n",
              "      <td>283.0</td>\n",
              "      <td>4.0</td>\n",
              "      <td>0</td>\n",
              "    </tr>\n",
              "    <tr>\n",
              "      <th>1278</th>\n",
              "      <td>3.8</td>\n",
              "      <td>1</td>\n",
              "      <td>0.296</td>\n",
              "      <td>53.1</td>\n",
              "      <td>53.1</td>\n",
              "      <td>1.1</td>\n",
              "      <td>2</td>\n",
              "      <td>63.9</td>\n",
              "      <td>63.9</td>\n",
              "      <td>1.3</td>\n",
              "      <td>2</td>\n",
              "      <td>79.8</td>\n",
              "      <td>79.8</td>\n",
              "      <td>1.9</td>\n",
              "      <td>0</td>\n",
              "      <td>84.0</td>\n",
              "      <td>84.0</td>\n",
              "      <td>1.4</td>\n",
              "      <td>0</td>\n",
              "      <td>253.5</td>\n",
              "      <td>253.5</td>\n",
              "      <td>1.4</td>\n",
              "      <td>2</td>\n",
              "    </tr>\n",
              "    <tr>\n",
              "      <th>2192</th>\n",
              "      <td>13.0</td>\n",
              "      <td>1</td>\n",
              "      <td>1.118</td>\n",
              "      <td>177.0</td>\n",
              "      <td>177.0</td>\n",
              "      <td>5.1</td>\n",
              "      <td>0</td>\n",
              "      <td>239.0</td>\n",
              "      <td>239.0</td>\n",
              "      <td>7.2</td>\n",
              "      <td>0</td>\n",
              "      <td>303.3</td>\n",
              "      <td>303.3</td>\n",
              "      <td>12.0</td>\n",
              "      <td>0</td>\n",
              "      <td>269.0</td>\n",
              "      <td>269.0</td>\n",
              "      <td>10.5</td>\n",
              "      <td>0</td>\n",
              "      <td>393.0</td>\n",
              "      <td>393.0</td>\n",
              "      <td>10.4</td>\n",
              "      <td>0</td>\n",
              "    </tr>\n",
              "    <tr>\n",
              "      <th>2295</th>\n",
              "      <td>10.6</td>\n",
              "      <td>1</td>\n",
              "      <td>-0.727</td>\n",
              "      <td>146.0</td>\n",
              "      <td>146.0</td>\n",
              "      <td>5.4</td>\n",
              "      <td>0</td>\n",
              "      <td>191.0</td>\n",
              "      <td>191.0</td>\n",
              "      <td>7.5</td>\n",
              "      <td>0</td>\n",
              "      <td>228.1</td>\n",
              "      <td>228.1</td>\n",
              "      <td>12.2</td>\n",
              "      <td>0</td>\n",
              "      <td>209.0</td>\n",
              "      <td>209.0</td>\n",
              "      <td>10.0</td>\n",
              "      <td>0</td>\n",
              "      <td>377.0</td>\n",
              "      <td>377.0</td>\n",
              "      <td>10.1</td>\n",
              "      <td>0</td>\n",
              "    </tr>\n",
              "  </tbody>\n",
              "</table>\n",
              "</div>"
            ],
            "text/plain": [
              "       standard_deviation  observations  anomaly  ...  f3.2_c  f3.2_p  f3.2_f\n",
              "1241                  0.0             1   -1.786  ...   257.7     1.5       2\n",
              "14949                 6.7            10   -0.636  ...   283.0     4.0       0\n",
              "1278                  3.8             1    0.296  ...   253.5     1.4       2\n",
              "2192                 13.0             1    1.118  ...   393.0    10.4       0\n",
              "2295                 10.6             1   -0.727  ...   377.0    10.1       0\n",
              "\n",
              "[5 rows x 23 columns]"
            ]
          },
          "metadata": {
            "tags": []
          },
          "execution_count": 85
        }
      ]
    },
    {
      "cell_type": "code",
      "metadata": {
        "id": "lOuODwSOE7Go",
        "colab_type": "code",
        "colab": {
          "base_uri": "https://localhost:8080/",
          "height": 34
        },
        "outputId": "121f6783-4dfb-416a-a097-08a1fd33ed32"
      },
      "source": [
        "X_train.shape"
      ],
      "execution_count": 86,
      "outputs": [
        {
          "output_type": "execute_result",
          "data": {
            "text/plain": [
              "(15875, 23)"
            ]
          },
          "metadata": {
            "tags": []
          },
          "execution_count": 86
        }
      ]
    },
    {
      "cell_type": "markdown",
      "metadata": {
        "id": "oCv4A-XJE8eT",
        "colab_type": "text"
      },
      "source": [
        "# Logistic Regression Model Attempt"
      ]
    },
    {
      "cell_type": "code",
      "metadata": {
        "id": "x9V9AgvbPUbW",
        "colab_type": "code",
        "colab": {}
      },
      "source": [
        "log_model = make_pipeline(\n",
        "    SimpleImputer(),\n",
        "    LogisticRegression()\n",
        ")"
      ],
      "execution_count": 94,
      "outputs": []
    },
    {
      "cell_type": "code",
      "metadata": {
        "id": "LYm0PbKOPbSe",
        "colab_type": "code",
        "colab": {
          "base_uri": "https://localhost:8080/",
          "height": 425
        },
        "outputId": "983fec2a-2ecf-4f0e-d1a1-5885c0a6b7b4"
      },
      "source": [
        "log_model.fit(X_train, y_train)"
      ],
      "execution_count": 95,
      "outputs": [
        {
          "output_type": "stream",
          "text": [
            "/usr/local/lib/python3.6/dist-packages/sklearn/linear_model/_logistic.py:940: ConvergenceWarning:\n",
            "\n",
            "lbfgs failed to converge (status=1):\n",
            "STOP: TOTAL NO. of ITERATIONS REACHED LIMIT.\n",
            "\n",
            "Increase the number of iterations (max_iter) or scale the data as shown in:\n",
            "    https://scikit-learn.org/stable/modules/preprocessing.html\n",
            "Please also refer to the documentation for alternative solver options:\n",
            "    https://scikit-learn.org/stable/modules/linear_model.html#logistic-regression\n",
            "\n"
          ],
          "name": "stderr"
        },
        {
          "output_type": "execute_result",
          "data": {
            "text/plain": [
              "Pipeline(memory=None,\n",
              "         steps=[('simpleimputer',\n",
              "                 SimpleImputer(add_indicator=False, copy=True, fill_value=None,\n",
              "                               missing_values=nan, strategy='mean',\n",
              "                               verbose=0)),\n",
              "                ('logisticregression',\n",
              "                 LogisticRegression(C=1.0, class_weight=None, dual=False,\n",
              "                                    fit_intercept=True, intercept_scaling=1,\n",
              "                                    l1_ratio=None, max_iter=100,\n",
              "                                    multi_class='auto', n_jobs=None,\n",
              "                                    penalty='l2', random_state=None,\n",
              "                                    solver='lbfgs', tol=0.0001, verbose=0,\n",
              "                                    warm_start=False))],\n",
              "         verbose=False)"
            ]
          },
          "metadata": {
            "tags": []
          },
          "execution_count": 95
        }
      ]
    },
    {
      "cell_type": "code",
      "metadata": {
        "id": "r7sxGIVqPiRV",
        "colab_type": "code",
        "colab": {
          "base_uri": "https://localhost:8080/",
          "height": 51
        },
        "outputId": "b1eb02d8-d2ed-4b0d-b2ee-584e7e0458f2"
      },
      "source": [
        "#Check our accuracy on our different sets\n",
        "print('Training Accuracy: ', log_model.score(X_train, y_train))\n",
        "print('Validation Accuracy: ', log_model.score(X_val, y_val))"
      ],
      "execution_count": 97,
      "outputs": [
        {
          "output_type": "stream",
          "text": [
            "Training Accuracy:  0.12963779527559055\n",
            "Validation Accuracy:  0.13151927437641722\n"
          ],
          "name": "stdout"
        }
      ]
    },
    {
      "cell_type": "markdown",
      "metadata": {
        "id": "PJUKxp5BP0r-",
        "colab_type": "text"
      },
      "source": [
        "# Trying XGB"
      ]
    },
    {
      "cell_type": "code",
      "metadata": {
        "id": "jUlVr_daQKO0",
        "colab_type": "code",
        "colab": {}
      },
      "source": [
        "from sklearn.ensemble import GradientBoostingRegressor"
      ],
      "execution_count": 98,
      "outputs": []
    },
    {
      "cell_type": "code",
      "metadata": {
        "id": "QkS6RwwfQmLm",
        "colab_type": "code",
        "colab": {}
      },
      "source": [
        "gbmodel = make_pipeline(\n",
        "    GradientBoostingRegressor(random_state=42)\n",
        ")"
      ],
      "execution_count": 99,
      "outputs": []
    },
    {
      "cell_type": "code",
      "metadata": {
        "id": "wO6VdF51Qwye",
        "colab_type": "code",
        "colab": {
          "base_uri": "https://localhost:8080/",
          "height": 340
        },
        "outputId": "61cb9b84-b02f-4181-fb31-66c6dbd8816f"
      },
      "source": [
        "gbmodel.fit(X_train, y_train)"
      ],
      "execution_count": 101,
      "outputs": [
        {
          "output_type": "execute_result",
          "data": {
            "text/plain": [
              "Pipeline(memory=None,\n",
              "         steps=[('gradientboostingregressor',\n",
              "                 GradientBoostingRegressor(alpha=0.9, ccp_alpha=0.0,\n",
              "                                           criterion='friedman_mse', init=None,\n",
              "                                           learning_rate=0.1, loss='ls',\n",
              "                                           max_depth=3, max_features=None,\n",
              "                                           max_leaf_nodes=None,\n",
              "                                           min_impurity_decrease=0.0,\n",
              "                                           min_impurity_split=None,\n",
              "                                           min_samples_leaf=1,\n",
              "                                           min_samples_split=2,\n",
              "                                           min_weight_fraction_leaf=0.0,\n",
              "                                           n_estimators=100,\n",
              "                                           n_iter_no_change=None,\n",
              "                                           presort='deprecated',\n",
              "                                           random_state=42, subsample=1.0,\n",
              "                                           tol=0.0001, validation_fraction=0.1,\n",
              "                                           verbose=0, warm_start=False))],\n",
              "         verbose=False)"
            ]
          },
          "metadata": {
            "tags": []
          },
          "execution_count": 101
        }
      ]
    },
    {
      "cell_type": "code",
      "metadata": {
        "id": "60qiOhknQyjg",
        "colab_type": "code",
        "colab": {
          "base_uri": "https://localhost:8080/",
          "height": 68
        },
        "outputId": "44820a67-a891-4b42-8f35-fb411cb80b2a"
      },
      "source": [
        "#Check our accuracy on our different sets\n",
        "print('Training Accuracy: ', gbmodel.score(X_train, y_train))\n",
        "print('Validation Accuracy: ', gbmodel.score(X_val, y_val))\n",
        "print('Testing Accuracy: ', gbmodel.score(X_test, y_test))"
      ],
      "execution_count": 104,
      "outputs": [
        {
          "output_type": "stream",
          "text": [
            "Training Accuracy:  0.9587993557878448\n",
            "Validation Accuracy:  0.9577668438236837\n",
            "Testing Accuracy:  0.9575125062893188\n"
          ],
          "name": "stdout"
        }
      ]
    },
    {
      "cell_type": "code",
      "metadata": {
        "id": "45pBhrbES9MN",
        "colab_type": "code",
        "colab": {
          "base_uri": "https://localhost:8080/",
          "height": 34
        },
        "outputId": "3e454ec8-1f2c-45db-a92c-7a13d53c0117"
      },
      "source": [
        "#MAE \n",
        "guess = gbmodel.predict(X_test).mean()\n",
        "errors = guess - y_test\n",
        "mae = errors.abs().mean()\n",
        "\n",
        "print(mae)"
      ],
      "execution_count": 105,
      "outputs": [
        {
          "output_type": "stream",
          "text": [
            "68.62116344237694\n"
          ],
          "name": "stdout"
        }
      ]
    },
    {
      "cell_type": "code",
      "metadata": {
        "id": "1Gxqh57uqPtX",
        "colab_type": "code",
        "colab": {}
      },
      "source": [
        "from sklearn.metrics import mean_absolute_error, mean_squared_error"
      ],
      "execution_count": null,
      "outputs": []
    },
    {
      "cell_type": "markdown",
      "metadata": {
        "id": "xblhFO9wRmpF",
        "colab_type": "text"
      },
      "source": [
        "# Visuals for use in articles"
      ]
    },
    {
      "cell_type": "code",
      "metadata": {
        "id": "2z71jaYIRohp",
        "colab_type": "code",
        "colab": {}
      },
      "source": [
        "guess = y_train.mean()\n",
        "errors = guess - y_train\n",
        "mae = errors.abs().mean()"
      ],
      "execution_count": null,
      "outputs": []
    }
  ]
}